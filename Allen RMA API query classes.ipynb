{
 "cells": [
  {
   "cell_type": "code",
   "execution_count": null,
   "metadata": {
    "collapsed": true
   },
   "outputs": [],
   "source": [
    "# shows detailed info about possible RMA query methods\n",
    "from allensdk.api.queries.rma_api import RmaApi\n",
    "\n",
    "\n",
    "rma = RmaApi()\n",
    "# http://api.brain-map.org/api/v2/data.json\n",
    "schema = rma.get_schema()\n",
    "for entry in schema:\n",
    "    data_description = entry['DataDescription']\n",
    "    clz = data_description.keys()[0]\n",
    "    info = data_description.values()[0]\n",
    "    fields = info['fields']\n",
    "    associations = info['associations']\n",
    "    table = info['table']\n",
    "    print(\"class: %s\" % (clz))\n",
    "    print(\"fields: %s\" % (','.join(f['name'] for f in fields)))\n",
    "    print(\"associations: %s\" % (','.join(a['name'] for a in associations)))\n",
    "    print(\"table: %s\\n\" % (table))"
   ]
  }
 ],
 "metadata": {
  "kernelspec": {
   "display_name": "Python 2",
   "language": "python",
   "name": "python2"
  },
  "language_info": {
   "codemirror_mode": {
    "name": "ipython",
    "version": 2
   },
   "file_extension": ".py",
   "mimetype": "text/x-python",
   "name": "python",
   "nbconvert_exporter": "python",
   "pygments_lexer": "ipython2",
   "version": "2.7.11"
  }
 },
 "nbformat": 4,
 "nbformat_minor": 2
}
