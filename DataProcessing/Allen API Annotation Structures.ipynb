{
 "cells": [
  {
   "cell_type": "code",
   "execution_count": 1,
   "metadata": {},
   "outputs": [],
   "source": [
    "# download structure in the finest annotated level\n",
    "# E11.5: 9\n",
    "# E13.5: 10\n",
    "# E15.5: 10\n",
    "# E18.5: 5\n",
    "# P4: 5\n",
    "# P14: 5\n",
    "# P28: 13\n",
    "\n",
    "from allensdk.api.queries.rma_api import RmaApi\n",
    "import pandas as pd\n",
    "api = RmaApi()\n",
    "\n",
    "#level=['1','2','3','4','5','6','7','8','9','10','11','12','13']\n",
    "\n",
    "#level_str = \"'\" + \"','\".join(level) + \"'\"\n",
    "\n",
    "structures_lev1 = pd.DataFrame(\n",
    "    api.model_query('Structure',\n",
    "                    criteria='[graph_id$eq17][st_level$eq1]',\n",
    "                    num_rows='all'))"
   ]
  },
  {
   "cell_type": "code",
   "execution_count": 2,
   "metadata": {
    "collapsed": true
   },
   "outputs": [],
   "source": [
    "structures_lev2 = pd.DataFrame(\n",
    "    api.model_query('Structure',\n",
    "                    criteria='[graph_id$eq17][st_level$eq2]',\n",
    "                    num_rows='all'))"
   ]
  },
  {
   "cell_type": "code",
   "execution_count": 3,
   "metadata": {
    "collapsed": true
   },
   "outputs": [],
   "source": [
    "structures_lev3 = pd.DataFrame(\n",
    "    api.model_query('Structure',\n",
    "                    criteria='[graph_id$eq17][st_level$eq3]',\n",
    "                    num_rows='all'))"
   ]
  },
  {
   "cell_type": "code",
   "execution_count": 4,
   "metadata": {
    "collapsed": true
   },
   "outputs": [],
   "source": [
    "structures_lev4 = pd.DataFrame(\n",
    "    api.model_query('Structure',\n",
    "                    criteria='[graph_id$eq17][st_level$eq4]',\n",
    "                    num_rows='all'))"
   ]
  },
  {
   "cell_type": "code",
   "execution_count": 5,
   "metadata": {
    "collapsed": true
   },
   "outputs": [],
   "source": [
    "structures_lev5 = pd.DataFrame(\n",
    "    api.model_query('Structure',\n",
    "                    criteria='[graph_id$eq17][st_level$eq5]',\n",
    "                    num_rows='all'))"
   ]
  },
  {
   "cell_type": "code",
   "execution_count": 6,
   "metadata": {
    "collapsed": true
   },
   "outputs": [],
   "source": [
    "structures_lev6 = pd.DataFrame(\n",
    "    api.model_query('Structure',\n",
    "                    criteria='[graph_id$eq17][st_level$eq6]',\n",
    "                    num_rows='all'))"
   ]
  },
  {
   "cell_type": "code",
   "execution_count": 7,
   "metadata": {
    "collapsed": true
   },
   "outputs": [],
   "source": [
    "structures_lev7 = pd.DataFrame(\n",
    "    api.model_query('Structure',\n",
    "                    criteria='[graph_id$eq17][st_level$eq7]',\n",
    "                    num_rows='all'))"
   ]
  },
  {
   "cell_type": "code",
   "execution_count": 8,
   "metadata": {
    "collapsed": true
   },
   "outputs": [],
   "source": [
    "structures_lev8 = pd.DataFrame(\n",
    "    api.model_query('Structure',\n",
    "                    criteria='[graph_id$eq17][st_level$eq8]',\n",
    "                    num_rows='all'))"
   ]
  },
  {
   "cell_type": "code",
   "execution_count": 9,
   "metadata": {
    "collapsed": true
   },
   "outputs": [],
   "source": [
    "structures_lev9 = pd.DataFrame(\n",
    "    api.model_query('Structure',\n",
    "                    criteria='[graph_id$eq17][st_level$eq9]',\n",
    "                    num_rows='all'))"
   ]
  },
  {
   "cell_type": "code",
   "execution_count": 10,
   "metadata": {
    "collapsed": true
   },
   "outputs": [],
   "source": [
    "structures_lev10 = pd.DataFrame(\n",
    "    api.model_query('Structure',\n",
    "                    criteria='[graph_id$eq17][st_level$eq10]',\n",
    "                    num_rows='all'))"
   ]
  },
  {
   "cell_type": "code",
   "execution_count": 11,
   "metadata": {
    "collapsed": true
   },
   "outputs": [],
   "source": [
    "structures_lev11 = pd.DataFrame(\n",
    "    api.model_query('Structure',\n",
    "                    criteria='[graph_id$eq17][st_level$eq11]',\n",
    "                    num_rows='all'))"
   ]
  },
  {
   "cell_type": "code",
   "execution_count": 12,
   "metadata": {
    "collapsed": true
   },
   "outputs": [],
   "source": [
    "structures_lev12 = pd.DataFrame(\n",
    "    api.model_query('Structure',\n",
    "                    criteria='[graph_id$eq17][st_level$eq12]',\n",
    "                    num_rows='all'))"
   ]
  },
  {
   "cell_type": "code",
   "execution_count": 13,
   "metadata": {
    "collapsed": true
   },
   "outputs": [],
   "source": [
    "structures_lev13 = pd.DataFrame(\n",
    "    api.model_query('Structure',\n",
    "                    criteria='[graph_id$eq17][st_level$eq13]',\n",
    "                    num_rows='all'))"
   ]
  },
  {
   "cell_type": "code",
   "execution_count": 14,
   "metadata": {
    "collapsed": true
   },
   "outputs": [],
   "source": [
    "structures_lev1.to_csv('structureData_level_1.csv')"
   ]
  },
  {
   "cell_type": "code",
   "execution_count": 15,
   "metadata": {
    "collapsed": true
   },
   "outputs": [],
   "source": [
    "structures_lev2.to_csv('structureData_level_2.csv')"
   ]
  },
  {
   "cell_type": "code",
   "execution_count": 16,
   "metadata": {
    "collapsed": true
   },
   "outputs": [],
   "source": [
    "structures_lev3.to_csv('structureData_level_3.csv')"
   ]
  },
  {
   "cell_type": "code",
   "execution_count": 17,
   "metadata": {
    "collapsed": true
   },
   "outputs": [],
   "source": [
    "structures_lev4.to_csv('structureData_level_4.csv')"
   ]
  },
  {
   "cell_type": "code",
   "execution_count": 18,
   "metadata": {
    "collapsed": true
   },
   "outputs": [],
   "source": [
    "structures_lev5.to_csv('structureData_level_5.csv')"
   ]
  },
  {
   "cell_type": "code",
   "execution_count": 19,
   "metadata": {
    "collapsed": true
   },
   "outputs": [],
   "source": [
    "structures_lev6.to_csv('structureData_level_6.csv')"
   ]
  },
  {
   "cell_type": "code",
   "execution_count": 20,
   "metadata": {
    "collapsed": true
   },
   "outputs": [],
   "source": [
    "structures_lev7.to_csv('structureData_level_7.csv')"
   ]
  },
  {
   "cell_type": "code",
   "execution_count": 21,
   "metadata": {
    "collapsed": true
   },
   "outputs": [],
   "source": [
    "structures_lev8.to_csv('structureData_level_8.csv')"
   ]
  },
  {
   "cell_type": "code",
   "execution_count": 22,
   "metadata": {},
   "outputs": [],
   "source": [
    "structures_lev9.to_csv('structureData_level_9.csv')"
   ]
  },
  {
   "cell_type": "code",
   "execution_count": 23,
   "metadata": {
    "collapsed": true
   },
   "outputs": [],
   "source": [
    "structures_lev10.to_csv('structureData_level_10.csv')"
   ]
  },
  {
   "cell_type": "code",
   "execution_count": 24,
   "metadata": {
    "collapsed": true
   },
   "outputs": [],
   "source": [
    "structures_lev11.to_csv('structureData_level_11.csv')"
   ]
  },
  {
   "cell_type": "code",
   "execution_count": 25,
   "metadata": {
    "collapsed": true
   },
   "outputs": [],
   "source": [
    "structures_lev12.to_csv('structureData_level_12.csv')"
   ]
  },
  {
   "cell_type": "code",
   "execution_count": 27,
   "metadata": {},
   "outputs": [],
   "source": [
    "structures_lev13.to_csv('structureData_level_13.csv')"
   ]
  },
  {
   "cell_type": "code",
   "execution_count": null,
   "metadata": {
    "collapsed": true
   },
   "outputs": [],
   "source": []
  }
 ],
 "metadata": {
  "kernelspec": {
   "display_name": "Python 2",
   "language": "python",
   "name": "python2"
  },
  "language_info": {
   "codemirror_mode": {
    "name": "ipython",
    "version": 2
   },
   "file_extension": ".py",
   "mimetype": "text/x-python",
   "name": "python",
   "nbconvert_exporter": "python",
   "pygments_lexer": "ipython2",
   "version": "2.7.11"
  }
 },
 "nbformat": 4,
 "nbformat_minor": 2
}
