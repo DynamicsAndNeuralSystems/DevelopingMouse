{
 "cells": [
  {
   "cell_type": "code",
   "execution_count": 1,
   "metadata": {
    "collapsed": true
   },
   "outputs": [],
   "source": [
    "# for each gene, for each developmental time point, search for the SectionDataSet \n",
    "\n",
    "from allensdk.api.queries.rma_api import RmaApi\n",
    "import pandas as pd\n",
    "api = RmaApi()\n",
    "\n",
    "\n",
    "# user input directory name here for saving the files at the end # ages = ['E11.5']\n",
    "directory='D:\\Data\\DevelopingAllenMouseAPI-master\\Git\\Data\\\\'\n",
    "\n",
    "ages = ['E11.5','E13.5','E15.5','E18.5','P4','P14','P28']\n",
    "\n",
    "age_str = \"'\" + \"','\".join(ages) + \"'\"\n",
    "\n",
    "criteria=['[graph_id$eq17][st_level$eq1][acronym$eqH]'\n",
    "          #'products[abbreviation$eqDevMouse],'\n",
    "          #'specimen(donor(age[name$in%s])),' %age_str,\n",
    "          #'plane_of_section[name$eqsagittal]'\n",
    "         ]\n",
    "structure_H=pd.DataFrame(api.model_query('Structure',\n",
    "                            criteria=\"\".join(criteria),\n",
    "                            include='descendant_hierarchies(descendant)',\n",
    "                            start_row=0,\n",
    "                            num_rows='all'))\n"
   ]
  },
  {
   "cell_type": "code",
   "execution_count": 2,
   "metadata": {
    "collapsed": true
   },
   "outputs": [],
   "source": [
    "import os \n",
    "structure_H.to_csv(os.path.join(directory,'structure_H.csv'))"
   ]
  },
  {
   "cell_type": "code",
   "execution_count": 3,
   "metadata": {
    "collapsed": true
   },
   "outputs": [],
   "source": [
    "# extract ID of descendants\n",
    "descendantID=[]\n",
    "#only keep those experiments with entrez ID available\n",
    "for i in range(len(structure_H['descendant_hierarchies'][0])):\n",
    "    descendantID.append(structure_H['descendant_hierarchies'][0][i].get('descendant_id'))\n",
    "\n",
    "            #expID_list.append(experiment[counter]['id']) \n",
    "            #age_list.append(experiment[counter]['specimen']['donor']['age']['name'])\n",
    "            #geneID_list.append(experiment[counter]['probes'][0]['gene']['entrez_id'])\n",
    "            #geneAcronym_list.append(experiment[counter]['probes'][0]['gene']['acronym'])"
   ]
  },
  {
   "cell_type": "code",
   "execution_count": 4,
   "metadata": {
    "collapsed": true
   },
   "outputs": [],
   "source": [
    "pd.DataFrame(descendantID).to_csv(os.path.join(directory,'H_descendantID.csv'))"
   ]
  }
 ],
 "metadata": {
  "kernelspec": {
   "display_name": "Python 2",
   "language": "python",
   "name": "python2"
  },
  "language_info": {
   "codemirror_mode": {
    "name": "ipython",
    "version": 2
   },
   "file_extension": ".py",
   "mimetype": "text/x-python",
   "name": "python",
   "nbconvert_exporter": "python",
   "pygments_lexer": "ipython2",
   "version": "2.7.11"
  }
 },
 "nbformat": 4,
 "nbformat_minor": 2
}
