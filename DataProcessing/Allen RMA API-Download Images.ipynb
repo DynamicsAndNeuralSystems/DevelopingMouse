{
 "cells": [
  {
   "cell_type": "code",
   "execution_count": null,
   "metadata": {
    "collapsed": true
   },
   "outputs": [],
   "source": [
    "# download projection experiment details for image download\n",
    "\n",
    "\n",
    "from allensdk.api.queries.rma_api import RmaApi\n",
    "import pandas as pd\n",
    "\n",
    "# input wanted downsample factor in image download(1=halved)\n",
    "downsample=4\n",
    "\n",
    "api = RmaApi()\n",
    "\n",
    "projection = pd.DataFrame(\n",
    "    api.model_query('Equalization',\n",
    "                    num_rows='all'))\n",
    "projection=projection[pd.notnull(projection['section_data_set_id'])] # remove experiments where the section dataset id is unknown"
   ]
  },
  {
   "cell_type": "code",
   "execution_count": null,
   "metadata": {
    "collapsed": true
   },
   "outputs": [],
   "source": [
    "# save projection experiment data\n",
    "projection.to_csv('projection.csv')"
   ]
  },
  {
   "cell_type": "code",
   "execution_count": null,
   "metadata": {
    "collapsed": true
   },
   "outputs": [],
   "source": [
    "# download projection experiment details for image download\n",
    "# extract as list the section_data_set_id column (last column) of projection dataframe\n",
    "projection_list=projection['section_data_set_id'].tolist()\n"
   ]
  },
  {
   "cell_type": "code",
   "execution_count": null,
   "metadata": {
    "collapsed": true
   },
   "outputs": [],
   "source": [
    "# extract the colors values\n",
    "red_lower_list=projection['red_lower'].tolist()\n",
    "red_upper_list=projection['red_upper'].tolist()\n",
    "green_lower_list=projection['green_lower'].tolist()\n",
    "green_upper_list=projection['green_upper'].tolist()\n",
    "blue_lower_list=projection['blue_lower'].tolist()\n",
    "blue_upper_list=projection['blue_upper'].tolist()"
   ]
  },
  {
   "cell_type": "code",
   "execution_count": null,
   "metadata": {
    "collapsed": true
   },
   "outputs": [],
   "source": [
    "# temporary\n",
    "\n",
    "images = pd.DataFrame(api.model_query('SectionImage',\n",
    "                            criteria='[data_set_id$eq%f]'%(projection_list[0]),\n",
    "                            num_rows='all'))"
   ]
  },
  {
   "cell_type": "code",
   "execution_count": null,
   "metadata": {
    "collapsed": true
   },
   "outputs": [],
   "source": [
    "images.to_csv('images.csv')\n"
   ]
  },
  {
   "cell_type": "code",
   "execution_count": null,
   "metadata": {
    "collapsed": true
   },
   "outputs": [],
   "source": [
    "image_list=[]\n",
    "\n",
    "for i in range(len(projection_list)):\n",
    "    images = pd.DataFrame(api.model_query('SectionImage',\n",
    "                            criteria='[data_set_id$eq%f]'%(projection_list[i]),\n",
    "                            num_rows='all'))\n",
    "    # extract the image id column as list\n",
    "    image_list.append(images)\n",
    "    \n",
    "    "
   ]
  },
  {
   "cell_type": "code",
   "execution_count": null,
   "metadata": {
    "collapsed": true,
    "scrolled": false
   },
   "outputs": [],
   "source": [
    "# Create the URLs\n",
    "\n",
    "API_PATH = 'http://api.brain-map.org/api/v2/image_download/'\n",
    "\n",
    "URL_list=[]\n",
    "image_id_many_list=[]\n",
    "for i in range(len(image_list)): # for each sectionImage\n",
    "    image_id_many=image_list[i]['id'].tolist()\n",
    "    image_id_many_list.append(image_id_many)\n",
    "    for j in range(len(image_list[i])): # for each image\n",
    "        image_id=image_id_many[j]\n",
    "        URL=(('%s' %(API_PATH)) +\\\n",
    "             '%d' % (image_id) +\\\n",
    "             '?range=' +\\\n",
    "             '%d' % (red_lower_list[j]) +\\\n",
    "             ',' +\\\n",
    "             '%d' % (red_upper_list[j]) +\\\n",
    "             ',' +\\\n",
    "             '%d' % (green_lower_list[j]) +\\\n",
    "             ',' +\\\n",
    "             '%d' % (green_upper_list[j]) +\\\n",
    "             ',' +\\\n",
    "             '%d' % (blue_lower_list[j]) +\\\n",
    "             ',' +\\\n",
    "             '%d' % (blue_upper_list[j]) +\\\n",
    "             '&downsample=%d' % (downsample))\n",
    "        URL_list.append(URL)\n",
    "        "
   ]
  },
  {
   "cell_type": "code",
   "execution_count": null,
   "metadata": {
    "collapsed": true,
    "scrolled": true
   },
   "outputs": [],
   "source": [
    "# create file names\n",
    "filenames=[]\n",
    "sectionImageID=[int(x) for x in projection_list] # as for image id: image_id_many_list \n",
    "for i in range(len(image_list)):\n",
    "    for j in range(len(image_id_many_list[i])):\n",
    "        filename=('SecImID_%d' %(sectionImageID[i])+\\\n",
    "                  '_'+\\\n",
    "                  'ImID_%d' %(image_id_many_list[i][j])+\\\n",
    "                  '.jpg')  \n",
    "        filenames.append(filename)\n",
    "        \n",
    "        "
   ]
  },
  {
   "cell_type": "code",
   "execution_count": null,
   "metadata": {
    "collapsed": true
   },
   "outputs": [],
   "source": [
    "import requests \n",
    "for i in range(len(URL_list)):\n",
    "    fName=filenames[i]\n",
    "    URL_name=URL_list[i]\n",
    "    with open(fName, 'wb') as handle:\n",
    "        response = requests.get(URL_name, stream=True)\n",
    "\n",
    "        if not response.ok:\n",
    "            print response\n",
    "\n",
    "        for block in response.iter_content(1024):\n",
    "            if not block:\n",
    "                break\n",
    "\n",
    "            handle.write(block)"
   ]
  }
 ],
 "metadata": {
  "kernelspec": {
   "display_name": "Python 2",
   "language": "python",
   "name": "python2"
  },
  "language_info": {
   "codemirror_mode": {
    "name": "ipython",
    "version": 2
   },
   "file_extension": ".py",
   "mimetype": "text/x-python",
   "name": "python",
   "nbconvert_exporter": "python",
   "pygments_lexer": "ipython2",
   "version": "2.7.11"
  }
 },
 "nbformat": 4,
 "nbformat_minor": 2
}
