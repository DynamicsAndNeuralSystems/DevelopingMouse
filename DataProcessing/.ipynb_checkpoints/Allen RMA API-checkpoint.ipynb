{
 "cells": [
  {
   "cell_type": "code",
   "execution_count": null,
   "metadata": {
    "collapsed": true
   },
   "outputs": [],
   "source": [
    "# download structure colours at level 5\n",
    "\n",
    "from allensdk.api.queries.rma_api import RmaApi\n",
    "import pandas as pd\n",
    "api = RmaApi()\n",
    "\n",
    "structures = pd.DataFrame(\n",
    "    api.model_query('Structure',\n",
    "                    criteria='[graph_id$eq17][st_level$eq5]',\n",
    "                    num_rows='all'))"
   ]
  },
  {
   "cell_type": "code",
   "execution_count": null,
   "metadata": {
    "collapsed": true
   },
   "outputs": [],
   "source": [
    "structures.to_csv('structureData.csv')"
   ]
  },
  {
   "cell_type": "code",
   "execution_count": null,
   "metadata": {
    "collapsed": true
   },
   "outputs": [],
   "source": [
    "# download structure colours at level 3 (Major divisions)\n",
    "\n",
    "from allensdk.api.queries.rma_api import RmaApi\n",
    "import pandas as pd\n",
    "api = RmaApi()\n",
    "\n",
    "structures = pd.DataFrame(\n",
    "    api.model_query('Structure',\n",
    "                    criteria='[graph_id$eq17][st_level$eq3]',\n",
    "                    num_rows='all'))"
   ]
  },
  {
   "cell_type": "code",
   "execution_count": null,
   "metadata": {
    "collapsed": true
   },
   "outputs": [],
   "source": [
    "structures.to_csv('structureData_level3.csv')"
   ]
  },
  {
   "cell_type": "code",
   "execution_count": null,
   "metadata": {
    "collapsed": true
   },
   "outputs": [],
   "source": [
    "# download structure coords at level 5\n",
    "\n",
    "from allensdk.api.queries.rma_api import RmaApi\n",
    "import pandas as pd\n",
    "api = RmaApi()\n",
    "\n",
    "structure_centers = pd.DataFrame(\n",
    "    api.model_query('StructureCenter',\n",
    "                    criteria='structure[st_level$eq5][graph_id$eq17]',\n",
    "                    num_rows='all'))"
   ]
  },
  {
   "cell_type": "code",
   "execution_count": null,
   "metadata": {
    "collapsed": true
   },
   "outputs": [],
   "source": [
    "structure_centers.to_csv('structureCenters.csv')"
   ]
  },
  {
   "cell_type": "code",
   "execution_count": null,
   "metadata": {
    "collapsed": true
   },
   "outputs": [],
   "source": [
    "# download structure coords for adult mouse\n",
    "\n",
    "\n",
    "from allensdk.api.queries.rma_api import RmaApi\n",
    "import pandas as pd\n",
    "api = RmaApi()\n",
    "\n",
    "structure_centers_adult = pd.DataFrame(\n",
    "    api.model_query('StructureCenter',\n",
    "                    criteria='structure[graph_id$eq1]',\n",
    "                    num_rows='all'))"
   ]
  },
  {
   "cell_type": "code",
   "execution_count": null,
   "metadata": {
    "collapsed": true,
    "scrolled": true
   },
   "outputs": [],
   "source": [
    "structure_centers_adult.to_csv('structureCenters_adult.csv')"
   ]
  },
  {
   "cell_type": "code",
   "execution_count": null,
   "metadata": {
    "collapsed": true
   },
   "outputs": [],
   "source": [
    "# download acronym path for developing mouse\n",
    "\n",
    "\n",
    "from allensdk.api.queries.rma_api import RmaApi\n",
    "import pandas as pd\n",
    "api = RmaApi()\n",
    "\n",
    "OntologyNode = pd.DataFrame(\n",
    "    api.model_query('OntologyNode',\n",
    "                    criteria='structure[st_level$eq5][graph_id$eq17]',\n",
    "                    num_rows='all'))"
   ]
  },
  {
   "cell_type": "code",
   "execution_count": null,
   "metadata": {
    "collapsed": true
   },
   "outputs": [],
   "source": [
    "OntologyNode.to_csv('AcronymPath_level5.csv')"
   ]
  },
  {
   "cell_type": "code",
   "execution_count": 23,
   "metadata": {},
   "outputs": [],
   "source": [
    "# download structure coords at level 5\n",
    "\n",
    "from allensdk.api.queries.rma_api import RmaApi\n",
    "import pandas as pd\n",
    "api = RmaApi()\n",
    "\n",
    "ssociations = ''.join(['[id$eq1]',\n",
    "                        'structure_graph(ontology),',\n",
    "                        'graphic_group_labels'])\n",
    "\n",
    "atlas_data = api.model_query('Atlas',\n",
    "                             include=associations,\n",
    "                             criteria=associations,\n",
    "                             only=['atlases.id',\n",
    "                                   'atlases.name',\n",
    "                                   'atlases.image_type',\n",
    "                                   'ontologies.id',\n",
    "                                   'ontologies.name',\n",
    "                                   'structure_graphs.id',\n",
    "                                   'structure_graphs.name',\n",
    "                                   'graphic_group_labels.id',\n",
    "                                   'graphic_group_labels.name'])"
   ]
  },
  {
   "cell_type": "code",
   "execution_count": 7,
   "metadata": {
    "scrolled": true
   },
   "outputs": [
    {
     "data": {
      "text/plain": [
       "unicode"
      ]
     },
     "execution_count": 7,
     "metadata": {},
     "output_type": "execute_result"
    }
   ],
   "source": [
    "type(atlas_data_set)"
   ]
  },
  {
   "cell_type": "code",
   "execution_count": 21,
   "metadata": {},
   "outputs": [
    {
     "ename": "TypeError",
     "evalue": "string indices must be integers",
     "output_type": "error",
     "traceback": [
      "\u001b[0;31m---------------------------------------------------------------------------\u001b[0m",
      "\u001b[0;31mTypeError\u001b[0m                                 Traceback (most recent call last)",
      "\u001b[0;32m<ipython-input-21-5aa62b5a1e44>\u001b[0m in \u001b[0;36m<module>\u001b[0;34m()\u001b[0m\n\u001b[1;32m     16\u001b[0m \u001b[0;34m\u001b[0m\u001b[0m\n\u001b[1;32m     17\u001b[0m \u001b[0;32mfor\u001b[0m \u001b[0matlasData\u001b[0m \u001b[0;32min\u001b[0m \u001b[0matlas_data\u001b[0m\u001b[0;34m:\u001b[0m\u001b[0;34m\u001b[0m\u001b[0m\n\u001b[0;32m---> 18\u001b[0;31m     \u001b[0mdata\u001b[0m\u001b[0;34m.\u001b[0m\u001b[0mappend\u001b[0m\u001b[0;34m(\u001b[0m\u001b[0;34m{\u001b[0m\u001b[0;34m'atlasID'\u001b[0m\u001b[0;34m:\u001b[0m\u001b[0matlasData\u001b[0m\u001b[0;34m[\u001b[0m\u001b[0;34m'atlases'\u001b[0m\u001b[0;34m]\u001b[0m\u001b[0;34m}\u001b[0m\u001b[0;34m)\u001b[0m\u001b[0;34m\u001b[0m\u001b[0m\n\u001b[0m",
      "\u001b[0;31mTypeError\u001b[0m: string indices must be integers"
     ]
    }
   ],
   "source": [
    "# download structure coords at level 5\n",
    "\n",
    "from allensdk.api.queries.rma_api import RmaApi\n",
    "import pandas as pd\n",
    "api = RmaApi()\n",
    "\n",
    "associations = ''.join(['[id$eq1]',\n",
    "                        'structure_graph(ontology),',\n",
    "                        'graphic_group_labels'])\n",
    "data=[]\n",
    "\n",
    "atlas_data =api.model_query('Atlas',\n",
    "                             include=associations,\n",
    "                             criteria=associations)\n",
    "                             \n",
    "\n",
    "for atlasData in atlas_data:\n",
    "    data.append({'atlasID':atlasData['atlases']})"
   ]
  },
  {
   "cell_type": "code",
   "execution_count": 17,
   "metadata": {},
   "outputs": [
    {
     "data": {
      "text/plain": [
       "u'line 1, column 35: missing <EOF> at \"structure_graph\"\\nmodel::Atlas,rma::criteria,[id$eq1]structure_graph(ontology),graphic_group_labels,rma::options[only$eqatlases.id,atlases.name,atlases.image_type,ontologies.id,ontologies.name,structure_graphs.id,structure_graphs.name,graphic_group_labels.id,graphic_group_labels.name]\\n-----------------------------------^'"
      ]
     },
     "execution_count": 17,
     "metadata": {},
     "output_type": "execute_result"
    }
   ],
   "source": [
    "atlas_data"
   ]
  },
  {
   "cell_type": "code",
   "execution_count": null,
   "metadata": {
    "collapsed": true
   },
   "outputs": [],
   "source": [
    "    fdata = []\n",
    "    for unionize in unionizes:\n",
    "    \n",
    "\n",
    "        fdata.append({\n",
    "            'age_name': unionize['section_data_set']['specimen']['donor']['age']['name'],\n",
    "            'data_set_id': unionize['section_data_set']['id'],\n",
    "            'structure': unionize['structure']['acronym'],\n",
    "            'gene_acronym': unionize['section_data_set']['probes'][0]['gene']['acronym'],\n",
    "            'gene_entrez': unionize['section_data_set']['probes'][0]['gene']['entrez_id'],\n",
    "            'delegate': unionize['section_data_set']['delegate'],\n",
    "            'expression_energy': unionize['expression_energy'],\n",
    "            'expression_density': unionize['expression_density']\n",
    "        })\n",
    "\n",
    "    return pd.DataFrame.from_records(fdata)"
   ]
  },
  {
   "cell_type": "code",
   "execution_count": 38,
   "metadata": {
    "collapsed": true
   },
   "outputs": [],
   "source": [
    "from allensdk.api.queries.rma_api import RmaApi\n",
    "import pandas as pd\n",
    "api = RmaApi()\n",
    "\n",
    "ref_space = api.model_query('Reference3dSpace',\n",
    "                    #criteria='ontology[id$eq12]',\n",
    "                    num_rows='all')"
   ]
  },
  {
   "cell_type": "code",
   "execution_count": 40,
   "metadata": {},
   "outputs": [
    {
     "data": {
      "text/plain": [
       "[]"
      ]
     },
     "execution_count": 40,
     "metadata": {},
     "output_type": "execute_result"
    }
   ],
   "source": [
    "ref_space"
   ]
  },
  {
   "cell_type": "code",
   "execution_count": 41,
   "metadata": {
    "collapsed": true
   },
   "outputs": [],
   "source": [
    "from allensdk.api.queries.rma_api import RmaApi\n",
    "\n",
    "rma = RmaApi()\n",
    "\n",
    "data = rma.model_query('Atlas',\n",
    "                       criteria=\"[name$il'*Mouse*']\")"
   ]
  },
  {
   "cell_type": "code",
   "execution_count": 42,
   "metadata": {},
   "outputs": [
    {
     "data": {
      "text/plain": [
       "[{u'description': u'Developing Mouse E15.5 (2010)',\n",
       "  u'id': 112953467,\n",
       "  u'image_type': None,\n",
       "  u'name': u'Developing Mouse, E15.5 (2010)',\n",
       "  u'reference_space_id': 3,\n",
       "  u'specimen_id': 6207,\n",
       "  u'structure_graph_id': None,\n",
       "  u'treatment_id': 8,\n",
       "  u'xyz_sort': u'xyz'},\n",
       " {u'description': u'Developing Mouse P56 (2010)',\n",
       "  u'id': 112953471,\n",
       "  u'image_type': None,\n",
       "  u'name': u'Developing Mouse, P56 (2010)',\n",
       "  u'reference_space_id': 10,\n",
       "  u'specimen_id': 6212,\n",
       "  u'structure_graph_id': None,\n",
       "  u'treatment_id': 8,\n",
       "  u'xyz_sort': u'xyz'},\n",
       " {u'description': u'Developing Mouse E18.5',\n",
       "  u'id': 181276160,\n",
       "  u'image_type': u'Atlas - Developing Mouse',\n",
       "  u'name': u'Developing Mouse, E18.5',\n",
       "  u'reference_space_id': 5,\n",
       "  u'specimen_id': 4981,\n",
       "  u'structure_graph_id': 17,\n",
       "  u'treatment_id': 3,\n",
       "  u'xyz_sort': u'xyz'},\n",
       " {u'description': u'Developing Mouse E13.5 (2010)',\n",
       "  u'id': 112953466,\n",
       "  u'image_type': None,\n",
       "  u'name': u'Developing Mouse, E13.5 (2010)',\n",
       "  u'reference_space_id': 2,\n",
       "  u'specimen_id': 6206,\n",
       "  u'structure_graph_id': None,\n",
       "  u'treatment_id': 8,\n",
       "  u'xyz_sort': u'xyz'},\n",
       " {u'description': u'Developing Mouse E13.5',\n",
       "  u'id': 181276130,\n",
       "  u'image_type': u'Atlas - Developing Mouse',\n",
       "  u'name': u'Developing Mouse, E13.5',\n",
       "  u'reference_space_id': 2,\n",
       "  u'specimen_id': 5236,\n",
       "  u'structure_graph_id': 17,\n",
       "  u'treatment_id': 4,\n",
       "  u'xyz_sort': u'xyz'},\n",
       " {u'description': u'Developing Mouse E15.5',\n",
       "  u'id': 181276151,\n",
       "  u'image_type': u'Atlas - Developing Mouse',\n",
       "  u'name': u'Developing Mouse, E15.5',\n",
       "  u'reference_space_id': 3,\n",
       "  u'specimen_id': 5292,\n",
       "  u'structure_graph_id': 17,\n",
       "  u'treatment_id': 4,\n",
       "  u'xyz_sort': u'xyz'},\n",
       " {u'description': u'Developing Mouse P4',\n",
       "  u'id': 181276162,\n",
       "  u'image_type': u'Atlas - Developing Mouse',\n",
       "  u'name': u'Developing Mouse, P4',\n",
       "  u'reference_space_id': 6,\n",
       "  u'specimen_id': 4869,\n",
       "  u'structure_graph_id': 17,\n",
       "  u'treatment_id': 3,\n",
       "  u'xyz_sort': u'xyz'},\n",
       " {u'description': u'Developing Mouse E11.5 (2010)',\n",
       "  u'id': 112953465,\n",
       "  u'image_type': None,\n",
       "  u'name': u'Developing Mouse, E11.5 (2010)',\n",
       "  u'reference_space_id': 1,\n",
       "  u'specimen_id': 6205,\n",
       "  u'structure_graph_id': None,\n",
       "  u'treatment_id': 8,\n",
       "  u'xyz_sort': u'xyz'},\n",
       " {u'description': u'Developing Mouse P4 (2010)',\n",
       "  u'id': 112953469,\n",
       "  u'image_type': None,\n",
       "  u'name': u'Developing Mouse, P4 (2010)',\n",
       "  u'reference_space_id': 6,\n",
       "  u'specimen_id': 6209,\n",
       "  u'structure_graph_id': None,\n",
       "  u'treatment_id': 8,\n",
       "  u'xyz_sort': u'xyz'},\n",
       " {u'description': u'Developing Mouse P56',\n",
       "  u'id': 181276165,\n",
       "  u'image_type': u'Atlas - Developing Mouse',\n",
       "  u'name': u'Developing Mouse, P56',\n",
       "  u'reference_space_id': 10,\n",
       "  u'specimen_id': 5636,\n",
       "  u'structure_graph_id': 17,\n",
       "  u'treatment_id': 3,\n",
       "  u'xyz_sort': u'xyz'},\n",
       " {u'description': u'Developing Mouse E11.5',\n",
       "  u'id': 181275741,\n",
       "  u'image_type': u'Atlas - Developing Mouse',\n",
       "  u'name': u'Developing Mouse, E11.5',\n",
       "  u'reference_space_id': 1,\n",
       "  u'specimen_id': 2477,\n",
       "  u'structure_graph_id': 17,\n",
       "  u'treatment_id': 4,\n",
       "  u'xyz_sort': u'xyz'},\n",
       " {u'description': u'Developing Mouse P14',\n",
       "  u'id': 181276164,\n",
       "  u'image_type': u'Atlas - Developing Mouse',\n",
       "  u'name': u'Developing Mouse, P14',\n",
       "  u'reference_space_id': 7,\n",
       "  u'specimen_id': 1877,\n",
       "  u'structure_graph_id': 17,\n",
       "  u'treatment_id': 3,\n",
       "  u'xyz_sort': u'xyz'},\n",
       " {u'description': u'Mouse P56 Sagittal',\n",
       "  u'id': 2,\n",
       "  u'image_type': u'Atlas - Adult Mouse',\n",
       "  u'name': u'Mouse, P56, Sagittal',\n",
       "  u'reference_space_id': 10,\n",
       "  u'specimen_id': 5636,\n",
       "  u'structure_graph_id': 1,\n",
       "  u'treatment_id': 3,\n",
       "  u'xyz_sort': u'xyz'},\n",
       " {u'description': u'Mouse Coronal v1 (2008)',\n",
       "  u'id': 4,\n",
       "  u'image_type': None,\n",
       "  u'name': u'Mouse Coronal, v1 (2008)',\n",
       "  u'reference_space_id': 9,\n",
       "  u'specimen_id': 712539,\n",
       "  u'structure_graph_id': None,\n",
       "  u'treatment_id': 8,\n",
       "  u'xyz_sort': u'xyz'},\n",
       " {u'description': u'Mouse P56 Coronal',\n",
       "  u'id': 1,\n",
       "  u'image_type': u'Atlas - Adult Mouse',\n",
       "  u'name': u'Mouse, P56, Coronal',\n",
       "  u'reference_space_id': 9,\n",
       "  u'specimen_id': 5756,\n",
       "  u'structure_graph_id': 1,\n",
       "  u'treatment_id': 3,\n",
       "  u'xyz_sort': u'xyz'},\n",
       " {u'description': u'Mouse Sagittal v1 (2008)',\n",
       "  u'id': 5,\n",
       "  u'image_type': None,\n",
       "  u'name': u'Mouse Sagittal, v1 (2008)',\n",
       "  u'reference_space_id': 10,\n",
       "  u'specimen_id': 712538,\n",
       "  u'structure_graph_id': None,\n",
       "  u'treatment_id': 8,\n",
       "  u'xyz_sort': u'xyz'},\n",
       " {u'description': u'Developing Mouse E18.5 (2010)',\n",
       "  u'id': 112953468,\n",
       "  u'image_type': None,\n",
       "  u'name': u'Developing Mouse, E18.5 (2010)',\n",
       "  u'reference_space_id': 5,\n",
       "  u'specimen_id': 6208,\n",
       "  u'structure_graph_id': None,\n",
       "  u'treatment_id': 8,\n",
       "  u'xyz_sort': u'xyz'},\n",
       " {u'description': u'Developing Mouse P14 (2010)',\n",
       "  u'id': 112953470,\n",
       "  u'image_type': None,\n",
       "  u'name': u'Developing Mouse, P14 (2010)',\n",
       "  u'reference_space_id': 7,\n",
       "  u'specimen_id': 6210,\n",
       "  u'structure_graph_id': None,\n",
       "  u'treatment_id': 8,\n",
       "  u'xyz_sort': u'xyz'}]"
      ]
     },
     "execution_count": 42,
     "metadata": {},
     "output_type": "execute_result"
    }
   ],
   "source": [
    "data"
   ]
  },
  {
   "cell_type": "code",
   "execution_count": 54,
   "metadata": {},
   "outputs": [
    {
     "ename": "SyntaxError",
     "evalue": "invalid syntax (<ipython-input-54-6d0499cf98a6>, line 17)",
     "output_type": "error",
     "traceback": [
      "\u001b[0;36m  File \u001b[0;32m\"<ipython-input-54-6d0499cf98a6>\"\u001b[0;36m, line \u001b[0;32m17\u001b[0m\n\u001b[0;31m    num_rows='all')\u001b[0m\n\u001b[0m           ^\u001b[0m\n\u001b[0;31mSyntaxError\u001b[0m\u001b[0;31m:\u001b[0m invalid syntax\n"
     ]
    }
   ],
   "source": [
    "associations = ''.join(['[id$eq1]',\n",
    "                        'structure_graph(ontology),',\n",
    "                        'graphic_group_labels'])\n",
    "\n",
    "atlas_data = rma.model_query('Atlas',\n",
    "                             include=associations,\n",
    "                             criteria=associations,\n",
    "                             only=['atlases.id',\n",
    "                                   'atlases.name',\n",
    "                                   'atlases.image_type',\n",
    "                                   'ontologies.id',\n",
    "                                   'ontologies.name',\n",
    "                                   'structure_graphs.id',\n",
    "                                   'structure_graphs.name',\n",
    "                                   'graphic_group_labels.id',\n",
    "                                   'graphic_group_labels.name']\n",
    "                            num_rows='all')"
   ]
  },
  {
   "cell_type": "code",
   "execution_count": 53,
   "metadata": {},
   "outputs": [
    {
     "data": {
      "text/plain": [
       "426"
      ]
     },
     "execution_count": 53,
     "metadata": {},
     "output_type": "execute_result"
    }
   ],
   "source": [
    "len(atlas_data)"
   ]
  },
  {
   "cell_type": "code",
   "execution_count": 52,
   "metadata": {},
   "outputs": [
    {
     "data": {
      "text/plain": [
       "u'line 1, column 35: missing <EOF> at \"structure_graph\"\\nmodel::Atlas,rma::criteria,[id$eq1]structure_graph(ontology),graphic_group_labels,rma::include,[id$eq1]structure_graph(ontology),graphic_group_labels,rma::options[only$eqatlases.id,atlases.name,atlases.image_type,ontologies.id,ontologies.name,structure_graphs.id,structure_graphs.name,graphic_group_labels.id,graphic_group_labels.name]\\n-----------------------------------^'"
      ]
     },
     "execution_count": 52,
     "metadata": {},
     "output_type": "execute_result"
    }
   ],
   "source": [
    "atlas_data.decode('utf-8')"
   ]
  },
  {
   "cell_type": "code",
   "execution_count": null,
   "metadata": {
    "collapsed": true
   },
   "outputs": [],
   "source": []
  }
 ],
 "metadata": {
  "kernelspec": {
   "display_name": "Python 2",
   "language": "python",
   "name": "python2"
  },
  "language_info": {
   "codemirror_mode": {
    "name": "ipython",
    "version": 2
   },
   "file_extension": ".py",
   "mimetype": "text/x-python",
   "name": "python",
   "nbconvert_exporter": "python",
   "pygments_lexer": "ipython2",
   "version": "2.7.11"
  }
 },
 "nbformat": 4,
 "nbformat_minor": 2
}
