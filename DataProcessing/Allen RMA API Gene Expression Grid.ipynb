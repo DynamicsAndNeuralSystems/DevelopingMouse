{
 "cells": [
  {
   "cell_type": "code",
   "execution_count": 1,
   "metadata": {},
   "outputs": [],
   "source": [
    "# for each gene, for each developmental time point, search for the SectionDataSet \n",
    "\n",
    "from allensdk.api.queries.rma_api import RmaApi\n",
    "import pandas as pd\n",
    "api = RmaApi()\n",
    "\n",
    "\n",
    "# user input directory name here for saving the files at the end\n",
    "directory='D:\\Data\\DevelopingAllenMouseAPI-master\\API data\\GridData\\\\'\n",
    "\n",
    "#ages = ['E11.5','E13.5','E15.5','E18.5','P4','P14','P28']\n",
    "ages = ['E11.5']\n",
    "age_str = \"'\" + \"','\".join(ages) + \"'\"\n",
    "\n",
    "criteria=['[failed$eqfalse],'\n",
    "          'products[abbreviation$eqDevMouse],'\n",
    "          'specimen(donor(age[name$in%s])),' %age_str,\n",
    "          'plane_of_section[name$eqsagittal]'\n",
    "         ]\n",
    "experiment=api.model_query('SectionDataSet',\n",
    "                            criteria=\"\".join(criteria),\n",
    "                            include='probes(gene),specimen(donor(age))',\n",
    "                            start_row=0,\n",
    "                            num_rows='all')\n"
   ]
  },
  {
   "cell_type": "code",
   "execution_count": 2,
   "metadata": {},
   "outputs": [],
   "source": [
    "# extract the info\n",
    "expID_list=[]\n",
    "age_list=[]\n",
    "geneID_list=[]\n",
    "geneAcronym_list=[]\n",
    "\n",
    "for counter, value in enumerate(experiment):\n",
    "    #only keep those experiments with entrez ID available\n",
    "    if experiment[counter]['probes']:\n",
    "        if not (experiment[counter]['probes'][0]['gene']['entrez_id']==None):\n",
    "            expID_list.append(experiment[i]['id']) \n",
    "            age_list.append(experiment[i]['specimen']['donor']['age']['name'])\n",
    "            geneID_list.append(experiment[i]['probes'][0]['gene']['entrez_id'])\n",
    "            geneAcronym_list.append(experiment[i]['probes'][0]['gene']['acronym'])\n",
    "    "
   ]
  },
  {
   "cell_type": "code",
   "execution_count": 3,
   "metadata": {},
   "outputs": [],
   "source": [
    "# create the URL\n",
    "API_PATH='http://api.brain-map.org/grid_data/download/'\n",
    "#http://api.brain-map.org/grid_data/download/72109410?include=energy\n",
    "URL_list=[]\n",
    "dataType=['energy','intensity']\n",
    "dataType_str = ','.join(dataType)\n",
    "\n",
    "for j in expID_list: # for each experiment\n",
    "    URL=(('%s' %(API_PATH)) +\\\n",
    "          '%d' % (j) +\\\n",
    "          '?include=' +\\\n",
    "          '%s' %(dataType_str)) \n",
    "    URL_list.append(URL)\n"
   ]
  },
  {
   "cell_type": "code",
   "execution_count": 4,
   "metadata": {
    "scrolled": true
   },
   "outputs": [],
   "source": [
    "import requests, zipfile, StringIO\n",
    "\n",
    "for j in range(len(URL_list)): #len(URL_list)\n",
    "    r = requests.get(URL_list[j], stream=True)\n",
    "    z = zipfile.ZipFile(StringIO.StringIO(r.content))\n",
    "    dirName=''.join([directory,age_list[j],'_',str(geneID_list[j])])\n",
    "    z.extractall(dirName)"
   ]
  },
  {
   "cell_type": "code",
   "execution_count": 5,
   "metadata": {
    "collapsed": true
   },
   "outputs": [],
   "source": [
    "used = set()\n",
    "age_unique = [x for x in age_list if x not in used and (used.add(x) or True)]\n",
    "used = set()\n",
    "geneID_unique = [x for x in geneID_list if x not in used and (used.add(x) or True)]\n",
    "used = set()\n",
    "geneAcronym_unique = [x for x in geneAcronym_list if x not in used and (used.add(x) or True)]\n",
    "  "
   ]
  },
  {
   "cell_type": "code",
   "execution_count": 6,
   "metadata": {
    "collapsed": true
   },
   "outputs": [],
   "source": [
    "import csv\n",
    "\n",
    "file_str=''.join([directory,'timePoints.csv'])\n",
    "with open(file_str, 'wb') as myfile:\n",
    "    wr = csv.writer(myfile, quoting=csv.QUOTE_ALL)\n",
    "    wr.writerow(age_unique)\n",
    "    \n",
    "file_str=''.join([directory,'geneEntrez.csv'])\n",
    "with open(file_str, 'wb') as myfile:\n",
    "    wr = csv.writer(myfile, quoting=csv.QUOTE_ALL)\n",
    "    wr.writerow(geneID_unique)\n",
    "    \n",
    "file_str=''.join([directory,'geneAbbreviations.csv'])\n",
    "with open(file_str, 'wb') as myfile:\n",
    "    wr = csv.writer(myfile, quoting=csv.QUOTE_ALL)\n",
    "    wr.writerow(geneAcronym_unique)"
   ]
  },
  {
   "cell_type": "code",
   "execution_count": null,
   "metadata": {
    "collapsed": true
   },
   "outputs": [],
   "source": [
    "#for counter, value in enumerate(experiment):\n",
    "    #if experiment[counter]['probes']:\n",
    "        #if (experiment[counter]['probes'][0]['gene']['entrez_id']==None):\n",
    "            #print('no gene entrez here')\n",
    "\n",
    "#for item, location in ITEMS_IN_WORLD.iteritems():\n",
    "#if (CURRENT_LOCATION==location):\n",
    "#print (\"Found!\")  #Or whatever you intend to do"
   ]
  },
  {
   "cell_type": "code",
   "execution_count": null,
   "metadata": {
    "collapsed": true
   },
   "outputs": [],
   "source": [
    "#experiment_try=pd.DataFrame(experiment)\n",
    "#experiment_try.to_csv('experiment_try.csv')"
   ]
  }
 ],
 "metadata": {
  "kernelspec": {
   "display_name": "Python 2",
   "language": "python",
   "name": "python2"
  },
  "language_info": {
   "codemirror_mode": {
    "name": "ipython",
    "version": 2
   },
   "file_extension": ".py",
   "mimetype": "text/x-python",
   "name": "python",
   "nbconvert_exporter": "python",
   "pygments_lexer": "ipython2",
   "version": "2.7.11"
  }
 },
 "nbformat": 4,
 "nbformat_minor": 2
}
