{
 "cells": [
  {
   "cell_type": "code",
   "execution_count": null,
   "metadata": {
    "collapsed": true
   },
   "outputs": [],
   "source": [
    "# download structure colours at level 5\n",
    "\n",
    "from allensdk.api.queries.rma_api import RmaApi\n",
    "import pandas as pd\n",
    "api = RmaApi()\n",
    "\n",
    "structures = pd.DataFrame(\n",
    "    api.model_query('Structure',\n",
    "                    criteria='[graph_id$eq17][st_level$eq5]',\n",
    "                    num_rows='all'))"
   ]
  },
  {
   "cell_type": "code",
   "execution_count": null,
   "metadata": {
    "collapsed": true
   },
   "outputs": [],
   "source": [
    "structures.to_csv('structureData.csv')"
   ]
  },
  {
   "cell_type": "code",
   "execution_count": null,
   "metadata": {
    "collapsed": true
   },
   "outputs": [],
   "source": [
    "# download structure colours at level 3 (Major divisions)\n",
    "\n",
    "from allensdk.api.queries.rma_api import RmaApi\n",
    "import pandas as pd\n",
    "api = RmaApi()\n",
    "\n",
    "structures = pd.DataFrame(\n",
    "    api.model_query('Structure',\n",
    "                    criteria='[graph_id$eq17][st_level$eq3]',\n",
    "                    num_rows='all'))"
   ]
  },
  {
   "cell_type": "code",
   "execution_count": null,
   "metadata": {
    "collapsed": true
   },
   "outputs": [],
   "source": [
    "structures.to_csv('structureData_level3.csv')"
   ]
  },
  {
   "cell_type": "code",
   "execution_count": null,
   "metadata": {
    "collapsed": true
   },
   "outputs": [],
   "source": [
    "# download structure coords at level 5\n",
    "\n",
    "from allensdk.api.queries.rma_api import RmaApi\n",
    "import pandas as pd\n",
    "api = RmaApi()\n",
    "\n",
    "structure_centers = pd.DataFrame(\n",
    "    api.model_query('StructureCenter',\n",
    "                    criteria='structure[st_level$eq5][graph_id$eq17]',\n",
    "                    num_rows='all'))"
   ]
  },
  {
   "cell_type": "code",
   "execution_count": null,
   "metadata": {
    "collapsed": true
   },
   "outputs": [],
   "source": [
    "structure_centers.to_csv('structureCenters.csv')"
   ]
  },
  {
   "cell_type": "code",
   "execution_count": null,
   "metadata": {
    "collapsed": true
   },
   "outputs": [],
   "source": [
    "# download structure coords for adult mouse\n",
    "\n",
    "\n",
    "from allensdk.api.queries.rma_api import RmaApi\n",
    "import pandas as pd\n",
    "api = RmaApi()\n",
    "\n",
    "structure_centers_adult = pd.DataFrame(\n",
    "    api.model_query('StructureCenter',\n",
    "                    criteria='structure[graph_id$eq1]',\n",
    "                    num_rows='all'))"
   ]
  },
  {
   "cell_type": "code",
   "execution_count": null,
   "metadata": {
    "collapsed": true,
    "scrolled": true
   },
   "outputs": [],
   "source": [
    "structure_centers_adult.to_csv('structureCenters_adult.csv')"
   ]
  },
  {
   "cell_type": "code",
   "execution_count": null,
   "metadata": {
    "collapsed": true
   },
   "outputs": [],
   "source": [
    "# download acronym path for developing mouse\n",
    "\n",
    "\n",
    "from allensdk.api.queries.rma_api import RmaApi\n",
    "import pandas as pd\n",
    "api = RmaApi()\n",
    "\n",
    "OntologyNode = pd.DataFrame(\n",
    "    api.model_query('OntologyNode',\n",
    "                    criteria='structure[st_level$eq5][graph_id$eq17]',\n",
    "                    num_rows='all'))"
   ]
  },
  {
   "cell_type": "code",
   "execution_count": null,
   "metadata": {
    "collapsed": true
   },
   "outputs": [],
   "source": [
    "OntologyNode.to_csv('AcronymPath_level5.csv')"
   ]
  }
 ],
 "metadata": {
  "kernelspec": {
   "display_name": "Python 2",
   "language": "python",
   "name": "python2"
  },
  "language_info": {
   "codemirror_mode": {
    "name": "ipython",
    "version": 2
   },
   "file_extension": ".py",
   "mimetype": "text/x-python",
   "name": "python",
   "nbconvert_exporter": "python",
   "pygments_lexer": "ipython2",
   "version": "2.7.11"
  }
 },
 "nbformat": 4,
 "nbformat_minor": 2
}
