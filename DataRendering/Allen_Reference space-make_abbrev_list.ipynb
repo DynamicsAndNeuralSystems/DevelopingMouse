{
 "cells": [
  {
   "cell_type": "code",
   "execution_count": 1,
   "metadata": {
    "scrolled": true
   },
   "outputs": [
    {
     "name": "stdout",
     "output_type": "stream",
     "text": [
      "A total of 20 brain regions inputted\n"
     ]
    }
   ],
   "source": [
    "from allensdk.api.queries.ontologies_api import OntologiesApi\n",
    "from allensdk.core.structure_tree import StructureTree\n",
    "from allensdk.api.queries.mouse_connectivity_api import MouseConnectivityApi\n",
    "from allensdk.config.manifest import Manifest\n",
    "from allensdk.core.reference_space import ReferenceSpace\n",
    "import os\n",
    "import nrrd\n",
    "import functools\n",
    "import numpy as np\n",
    "import itertools\n",
    "import math\n",
    "\n",
    "# Input directory of where the ID file is stored\n",
    "ID_directory='D:\\\\Data\\\\DevelopingAllenMouseAPI-master\\\\Git\\\\Data'\n",
    "# Input file name\n",
    "ID_file='spinalCordIDAnno_E13pt5.csv'\n",
    "\n",
    "import csv\n",
    "f=open(os.path.join(ID_directory, ID_file), \"r\")\n",
    "reader=csv.reader(f,delimiter=',')\n",
    "ID_need=[]\n",
    "for row in reader:\n",
    "    ID=row[0]\n",
    "    ID_need.append(ID)\n",
    "ID_need=[int(float(i)) for i in ID_need]\n",
    "\n",
    "print('A total of %d brain regions inputted'%(len(ID_need)))\n",
    "\n",
    "\n",
    "oapi = OntologiesApi()\n",
    "structure_graph = oapi.get_structures_with_sets([17])  # 1 is the id of the adult mouse structure graph\n",
    "\n",
    "# This removes some unused fields returned by the query\n",
    "structure_graph = StructureTree.clean_structures(structure_graph)\n",
    "\n",
    "tree = StructureTree(structure_graph)"
   ]
  },
  {
   "cell_type": "code",
   "execution_count": null,
   "metadata": {},
   "outputs": [],
   "source": [
    "ID_need"
   ]
  },
  {
   "cell_type": "code",
   "execution_count": null,
   "metadata": {},
   "outputs": [],
   "source": [
    "tree.get_structures_by_name('superficial stratum of the SpAL')"
   ]
  },
  {
   "cell_type": "code",
   "execution_count": null,
   "metadata": {
    "collapsed": true
   },
   "outputs": [],
   "source": [
    "name_map = tree.get_name_map()\n",
    "name_map[17156]"
   ]
  },
  {
   "cell_type": "code",
   "execution_count": 2,
   "metadata": {
    "collapsed": true
   },
   "outputs": [],
   "source": [
    "# make a list of abbreviations (for trial)\n",
    "acronym_need=[]\n",
    "acronym_map = tree.value_map(lambda x: x['id'], lambda y: y['acronym'])\n",
    "#print( acronym_map[385] )\n",
    "\n",
    "\n",
    "index=0\n",
    "for i in ID_need:\n",
    "    acronym_need=acronym_need+[acronym_map[ID_need[index]]]\n",
    "    index=index+1"
   ]
  },
  {
   "cell_type": "code",
   "execution_count": 3,
   "metadata": {},
   "outputs": [
    {
     "data": {
      "text/plain": [
       "[u'SpR',\n",
       " u'SpA',\n",
       " u'SpALv',\n",
       " u'SpALi',\n",
       " u'SpALs',\n",
       " u'SpAVv',\n",
       " u'SpAVi',\n",
       " u'SpAVs',\n",
       " u'SpB',\n",
       " u'SpBLv',\n",
       " u'SpBLi',\n",
       " u'SpBLs',\n",
       " u'SpBIv',\n",
       " u'SpBIi',\n",
       " u'SpBIs',\n",
       " u'SpBMv',\n",
       " u'SpBMi',\n",
       " u'SpBMs',\n",
       " u'SpF',\n",
       " u'SpFs']"
      ]
     },
     "execution_count": 3,
     "metadata": {},
     "output_type": "execute_result"
    }
   ],
   "source": [
    "acronym_need"
   ]
  },
  {
   "cell_type": "code",
   "execution_count": null,
   "metadata": {
    "collapsed": true
   },
   "outputs": [],
   "source": [
    "# save the list of structure ID\n",
    "np.savetxt(\"ID.csv\",ID_need,fmt='%.20d',delimiter=\",\")"
   ]
  },
  {
   "cell_type": "code",
   "execution_count": null,
   "metadata": {
    "collapsed": true
   },
   "outputs": [],
   "source": [
    "# save the list of region acronyms\n",
    "np.savetxt(\"GridAnnoAcronym_E13pt5.csv\",acronym_need,fmt='%.20s',delimiter=\",\")"
   ]
  },
  {
   "cell_type": "code",
   "execution_count": null,
   "metadata": {
    "collapsed": true
   },
   "outputs": [],
   "source": [
    "acronym_need[352]"
   ]
  },
  {
   "cell_type": "code",
   "execution_count": null,
   "metadata": {
    "collapsed": true
   },
   "outputs": [],
   "source": [
    "tree.get_structures_by_acronym"
   ]
  },
  {
   "cell_type": "code",
   "execution_count": null,
   "metadata": {
    "collapsed": true
   },
   "outputs": [],
   "source": [
    "tree.get_structures_by_acronym('MTN')"
   ]
  },
  {
   "cell_type": "code",
   "execution_count": null,
   "metadata": {},
   "outputs": [],
   "source": [
    "# get a dictionary mapping structure ids to names\n",
    "\n",
    "name_map = tree.get_name_map()\n",
    "name_map[17653]"
   ]
  },
  {
   "cell_type": "code",
   "execution_count": null,
   "metadata": {
    "collapsed": true
   },
   "outputs": [],
   "source": [
    "name_map[997]"
   ]
  },
  {
   "cell_type": "code",
   "execution_count": null,
   "metadata": {
    "collapsed": true
   },
   "outputs": [],
   "source": [
    "tree.get_structures_by_name('root')"
   ]
  },
  {
   "cell_type": "code",
   "execution_count": null,
   "metadata": {
    "collapsed": true
   },
   "outputs": [],
   "source": [
    "tree.get_structures_by_name('fiber tracts')"
   ]
  },
  {
   "cell_type": "code",
   "execution_count": null,
   "metadata": {
    "collapsed": true
   },
   "outputs": [],
   "source": [
    "tree.get_structure_sets()"
   ]
  },
  {
   "cell_type": "code",
   "execution_count": null,
   "metadata": {
    "collapsed": true
   },
   "outputs": [],
   "source": []
  }
 ],
 "metadata": {
  "kernelspec": {
   "display_name": "Python 2",
   "language": "python",
   "name": "python2"
  },
  "language_info": {
   "codemirror_mode": {
    "name": "ipython",
    "version": 2
   },
   "file_extension": ".py",
   "mimetype": "text/x-python",
   "name": "python",
   "nbconvert_exporter": "python",
   "pygments_lexer": "ipython2",
   "version": "2.7.11"
  }
 },
 "nbformat": 4,
 "nbformat_minor": 2
}
